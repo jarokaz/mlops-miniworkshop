{
 "cells": [
  {
   "cell_type": "markdown",
   "metadata": {},
   "source": [
    "# Orchestrating AutoML Tables training and deployment with Kubeflow Pipelines"
   ]
  },
  {
   "cell_type": "markdown",
   "metadata": {},
   "source": [
    "In this lab you develop a continous training and deployment pipeline using Kubeflow Pipelines, BigQuery and AutoML Tables.\n",
    "\n",
    "The scenario used in the lab is  predicting customer lifetime value (CLV).\n",
    "\n",
    "The goal of CLV modeling is to identify the most valuable customers - customers that are going to generate the highest value in a given future time range. The CLV models are built from a variety of data sources - historical sales data being the most important one and in many cases the only one. \n",
    "\n",
    "Predicting Customer Lifetime Value (CLV)  is a representative example of a use case where you may need to fine-tune and re-train a predictive model on a frequent basis. As there is a constant flow of new sales transactions that constitute the core of training data, models have to be kept up to date with evolving purchase patterns. Automation of model training and deployment is critical. \n",
    "\n",
    "In the CLV model developed in this lab, the historical sales transactions are preprocessed and aggregated to engineer a set of latent features  representing the so-called RFM characteristics of your customers:\n",
    "- Recency: How active have they been recently?\n",
    "- Frequency: How often do they buy?\n",
    "- Monetary: What amount do they spend?\n",
    "\n",
    "The following diagram shows a succession of past sales for a set of four customers.\n",
    "\n",
    "![clv_timeline](../images/clv-with-offline-training-timeline1.svg)\n",
    "\n",
    "The diagram illustrates the RFM values for the customers, showing for each customer:\n",
    "- Recency: The time between the last purchase and today, represented by the distance between the leftmost circle and the vertical dotted line that's labeled **Now**.\n",
    "- Frequency: The time between purchaes, represented by the distance between the circles on a single line.\n",
    "- Monetary: The amount of money spent on each purchase, represented by the size of the circle.\n",
    "\n",
    "As demonstrated in the lab you usually create multiple features per each characteristic. For example, in the lab, Recency is captured by two features: *recency* and *T*.\n",
    "\n",
    "The RFM input features and the target label are engineered using the following process:\n",
    "- A time series of of historical sales transactions for a given customer is divided into two time periods: *the features period* and *the predict period*. A point in time that is used to divide the time series is referred two as *the threshold date*. \n",
    "- The transactions in *the features period* are aggregated to create the latent RFM input features \n",
    "- The transactions in *the predict period* are aggregated to calculate the target label representing the expected total value of the customer\n",
    "\n",
    "This process results in a single example per customer and a set of examples across a customer population constitutes a training set.\n",
    "\n",
    "The pipeline implemented in the lab, uses BigQuery as a source of historical sales transactions. BigQuery is also used to engineer RFM features. The model is then trained and deployed using AutoML Tables. The below diagram represents the control and data flow implemented by the pipeline.\n",
    "\n",
    "\n",
    "![Training pipeline](../images/clv_train.png)\n",
    "\n",
    "1. The BQ query is run to process sales transactions in the *transactions* table into RFM features in the *features* table. \n",
    "1. The data from the *features* table is imported into the AutoML dataset\n",
    "1. The AutoML model is trained on the imported dataset\n",
    "1. After the training completes the evaluation metrics are retrieved and compared against the performance threshold\n",
    "1. If the model performs better than the threshold the model is deployed to AutoML Deployment\n",
    "\n",
    "The sample dataset used in the lab is based on the publicaly available [Online Retail Data Set](http://archive.ics.uci.edu/ml/datasets/Online+Retail) from the UCI Machine Learning Repository. The original dataset was preprocessed to conform to the following schema:\n",
    "\n",
    "| Field | Type | Description |\n",
    "|-------|------|-------------|\n",
    "| customer_id | string | A unique customer ID |\n",
    "| order_date | date (yyyy-MM-dd) | The date of a transaction. Transactions (potentially from multiple invoices) are grouped by day |\n",
    "| quantity | integer | A number of items of a single SKU in a transaction |\n",
    "| unit_price | float | A unit price of a SKU |\n",
    "\n",
    "The feature engineering query generates the features table with the below schema. \n",
    "\n",
    "\n",
    "| Field | Type | Description |\n",
    "|-------|------|-------------|\n",
    "| monetary | Float | The total spend by a customer in the features period|\n",
    "| frequency | Integer | The number of transactions placed by a customer in the features period |\n",
    "| recency | Integer |  The time (in days) between the first and the last orders in the features period |\n",
    "| T | Integer | The time between the first order placed and in the threshold date|\n",
    "| time_between | Float |  The average time betwee orders in the features period |\n",
    "| avg_basket_value | Float |  The averate monetary value of the customer's basket in the features period |\n",
    "| avg_basket_size | Float |  The average number of items in a basket in the features perio|\n",
    "| cnt_returns | Integer |  The number of returns in the features period|\n",
    "| target_monetary | Float | The total amount spent in the predict period. This is the label for predictions|\n",
    "\n",
    "\n",
    "\n"
   ]
  },
  {
   "cell_type": "markdown",
   "metadata": {},
   "source": [
    "## Prepare lab environment\n",
    "Let's start with configuring your GCP environment settings and uploading the sales transactions into BigQuery."
   ]
  },
  {
   "cell_type": "code",
   "execution_count": 1,
   "metadata": {},
   "outputs": [],
   "source": [
    "import kfp\n",
    "from kfp.components import func_to_container_op\n",
    "from typing import NamedTuple\n",
    "from google.cloud import bigquery\n",
    "from jinja2 import Template"
   ]
  },
  {
   "cell_type": "markdown",
   "metadata": {},
   "source": [
    "### Set lab settings\n",
    "Make sure to update the following values with you environment settings."
   ]
  },
  {
   "cell_type": "code",
   "execution_count": 2,
   "metadata": {},
   "outputs": [],
   "source": [
    "PROJECT_ID = 'jk-caip'\n",
    "DATASET_LOCATION = 'US'\n",
    "CLUSTER_NAME = 'mlops5-cluster'\n",
    "CLUSTER_ZONE = 'us-central1-a'"
   ]
  },
  {
   "cell_type": "markdown",
   "metadata": {},
   "source": [
    "You don't need to change the below values."
   ]
  },
  {
   "cell_type": "code",
   "execution_count": null,
   "metadata": {},
   "outputs": [],
   "source": [
    "DATASET_ID = 'lab_201'\n",
    "TRANSACTIONS_TABLE_ID = 'transactions'\n",
    "TRANSACTIONS_TABLE_SCHEMA = 'customer_id:STRING,order_date:DATE,quantity:INTEGER,unit_price:FLOAT'\n",
    "TRANSACTIONS_SOURCE_FILE = '../datasets/clv/transactions.csv'\n",
    "COMPONENT_URL_SEARCH_PREFIX = 'https://raw.githubusercontent.com/kubeflow/pipelines/0.1.33/components/gcp/'"
   ]
  },
  {
   "cell_type": "markdown",
   "metadata": {},
   "source": [
    "### Create a BigQuery dataset"
   ]
  },
  {
   "cell_type": "code",
   "execution_count": null,
   "metadata": {},
   "outputs": [],
   "source": [
    "!bq --location=$DATASET_LOCATION --project_id=$PROJECT_ID mk --dataset $DATASET_ID"
   ]
  },
  {
   "cell_type": "markdown",
   "metadata": {},
   "source": [
    "### Load sale transactions data to BigQuery"
   ]
  },
  {
   "cell_type": "code",
   "execution_count": null,
   "metadata": {},
   "outputs": [],
   "source": [
    "!bq --project_id=$PROJECT_ID --dataset_id=$DATASET_ID load \\\n",
    "--source_format=CSV \\\n",
    "--skip_leading_rows=1 \\\n",
    "--replace \\\n",
    "$TRANSACTIONS_TABLE_ID \\\n",
    "$TRANSACTIONS_SOURCE_FILE \\\n",
    "$TRANSACTIONS_TABLE_SCHEMA"
   ]
  },
  {
   "cell_type": "markdown",
   "metadata": {},
   "source": [
    "### Explore the dataset\n",
    "To query data in BigQuery you can use BigQuery Python client library ...."
   ]
  },
  {
   "cell_type": "code",
   "execution_count": 3,
   "metadata": {},
   "outputs": [],
   "source": [
    "client = bigquery.Client()"
   ]
  },
  {
   "cell_type": "code",
   "execution_count": 4,
   "metadata": {},
   "outputs": [
    {
     "data": {
      "text/html": [
       "<div>\n",
       "<style scoped>\n",
       "    .dataframe tbody tr th:only-of-type {\n",
       "        vertical-align: middle;\n",
       "    }\n",
       "\n",
       "    .dataframe tbody tr th {\n",
       "        vertical-align: top;\n",
       "    }\n",
       "\n",
       "    .dataframe thead th {\n",
       "        text-align: right;\n",
       "    }\n",
       "</style>\n",
       "<table border=\"1\" class=\"dataframe\">\n",
       "  <thead>\n",
       "    <tr style=\"text-align: right;\">\n",
       "      <th></th>\n",
       "      <th>customer_id</th>\n",
       "      <th>order_date</th>\n",
       "      <th>quantity</th>\n",
       "      <th>unit_price</th>\n",
       "    </tr>\n",
       "  </thead>\n",
       "  <tbody>\n",
       "    <tr>\n",
       "      <th>0</th>\n",
       "      <td>14646</td>\n",
       "      <td>2011-05-12</td>\n",
       "      <td>256</td>\n",
       "      <td>1.65</td>\n",
       "    </tr>\n",
       "    <tr>\n",
       "      <th>1</th>\n",
       "      <td>16553</td>\n",
       "      <td>2011-05-18</td>\n",
       "      <td>256</td>\n",
       "      <td>0.36</td>\n",
       "    </tr>\n",
       "    <tr>\n",
       "      <th>2</th>\n",
       "      <td>16701</td>\n",
       "      <td>2011-05-18</td>\n",
       "      <td>256</td>\n",
       "      <td>0.36</td>\n",
       "    </tr>\n",
       "    <tr>\n",
       "      <th>3</th>\n",
       "      <td>13941</td>\n",
       "      <td>2011-06-21</td>\n",
       "      <td>256</td>\n",
       "      <td>0.36</td>\n",
       "    </tr>\n",
       "    <tr>\n",
       "      <th>4</th>\n",
       "      <td>14258</td>\n",
       "      <td>2011-07-11</td>\n",
       "      <td>256</td>\n",
       "      <td>0.36</td>\n",
       "    </tr>\n",
       "    <tr>\n",
       "      <th>5</th>\n",
       "      <td>18102</td>\n",
       "      <td>2011-07-28</td>\n",
       "      <td>256</td>\n",
       "      <td>5.88</td>\n",
       "    </tr>\n",
       "    <tr>\n",
       "      <th>6</th>\n",
       "      <td>14646</td>\n",
       "      <td>2011-08-09</td>\n",
       "      <td>256</td>\n",
       "      <td>0.72</td>\n",
       "    </tr>\n",
       "    <tr>\n",
       "      <th>7</th>\n",
       "      <td>14646</td>\n",
       "      <td>2011-08-09</td>\n",
       "      <td>256</td>\n",
       "      <td>0.72</td>\n",
       "    </tr>\n",
       "    <tr>\n",
       "      <th>8</th>\n",
       "      <td>14646</td>\n",
       "      <td>2011-08-09</td>\n",
       "      <td>256</td>\n",
       "      <td>0.72</td>\n",
       "    </tr>\n",
       "    <tr>\n",
       "      <th>9</th>\n",
       "      <td>14646</td>\n",
       "      <td>2011-08-11</td>\n",
       "      <td>256</td>\n",
       "      <td>2.55</td>\n",
       "    </tr>\n",
       "  </tbody>\n",
       "</table>\n",
       "</div>"
      ],
      "text/plain": [
       "  customer_id  order_date  quantity  unit_price\n",
       "0       14646  2011-05-12       256        1.65\n",
       "1       16553  2011-05-18       256        0.36\n",
       "2       16701  2011-05-18       256        0.36\n",
       "3       13941  2011-06-21       256        0.36\n",
       "4       14258  2011-07-11       256        0.36\n",
       "5       18102  2011-07-28       256        5.88\n",
       "6       14646  2011-08-09       256        0.72\n",
       "7       14646  2011-08-09       256        0.72\n",
       "8       14646  2011-08-09       256        0.72\n",
       "9       14646  2011-08-11       256        2.55"
      ]
     },
     "execution_count": 4,
     "metadata": {},
     "output_type": "execute_result"
    }
   ],
   "source": [
    "query_template = \"\"\"\n",
    "SELECT *\n",
    "FROM `{{ source_table }}`\n",
    "LIMIT 100\n",
    "\"\"\"\n",
    "\n",
    "query = Template(query_template).render(\n",
    "    source_table='{}.{}.{}'.format(PROJECT_ID, DATASET_ID, TRANSACTIONS_TABLE_ID))\n",
    "\n",
    "df = client.query(query).to_dataframe()\n",
    "df.head(10)"
   ]
  },
  {
   "cell_type": "markdown",
   "metadata": {},
   "source": [
    "... or Jupyter the `%%bigquery` magic"
   ]
  },
  {
   "cell_type": "code",
   "execution_count": 5,
   "metadata": {},
   "outputs": [
    {
     "data": {
      "text/html": [
       "<div>\n",
       "<style scoped>\n",
       "    .dataframe tbody tr th:only-of-type {\n",
       "        vertical-align: middle;\n",
       "    }\n",
       "\n",
       "    .dataframe tbody tr th {\n",
       "        vertical-align: top;\n",
       "    }\n",
       "\n",
       "    .dataframe thead th {\n",
       "        text-align: right;\n",
       "    }\n",
       "</style>\n",
       "<table border=\"1\" class=\"dataframe\">\n",
       "  <thead>\n",
       "    <tr style=\"text-align: right;\">\n",
       "      <th></th>\n",
       "      <th>customer_id</th>\n",
       "      <th>order_date</th>\n",
       "      <th>quantity</th>\n",
       "      <th>unit_price</th>\n",
       "    </tr>\n",
       "  </thead>\n",
       "  <tbody>\n",
       "    <tr>\n",
       "      <th>0</th>\n",
       "      <td>16553</td>\n",
       "      <td>2011-05-18</td>\n",
       "      <td>256</td>\n",
       "      <td>0.36</td>\n",
       "    </tr>\n",
       "    <tr>\n",
       "      <th>1</th>\n",
       "      <td>16553</td>\n",
       "      <td>2011-03-10</td>\n",
       "      <td>2</td>\n",
       "      <td>12.75</td>\n",
       "    </tr>\n",
       "    <tr>\n",
       "      <th>2</th>\n",
       "      <td>16553</td>\n",
       "      <td>2011-02-08</td>\n",
       "      <td>4</td>\n",
       "      <td>12.75</td>\n",
       "    </tr>\n",
       "    <tr>\n",
       "      <th>3</th>\n",
       "      <td>16553</td>\n",
       "      <td>2011-03-10</td>\n",
       "      <td>4</td>\n",
       "      <td>5.95</td>\n",
       "    </tr>\n",
       "    <tr>\n",
       "      <th>4</th>\n",
       "      <td>16553</td>\n",
       "      <td>2011-05-18</td>\n",
       "      <td>6</td>\n",
       "      <td>2.95</td>\n",
       "    </tr>\n",
       "    <tr>\n",
       "      <th>...</th>\n",
       "      <td>...</td>\n",
       "      <td>...</td>\n",
       "      <td>...</td>\n",
       "      <td>...</td>\n",
       "    </tr>\n",
       "    <tr>\n",
       "      <th>81</th>\n",
       "      <td>16553</td>\n",
       "      <td>2011-03-10</td>\n",
       "      <td>120</td>\n",
       "      <td>0.85</td>\n",
       "    </tr>\n",
       "    <tr>\n",
       "      <th>82</th>\n",
       "      <td>16553</td>\n",
       "      <td>2011-06-29</td>\n",
       "      <td>144</td>\n",
       "      <td>0.53</td>\n",
       "    </tr>\n",
       "    <tr>\n",
       "      <th>83</th>\n",
       "      <td>16553</td>\n",
       "      <td>2010-12-14</td>\n",
       "      <td>192</td>\n",
       "      <td>0.85</td>\n",
       "    </tr>\n",
       "    <tr>\n",
       "      <th>84</th>\n",
       "      <td>16553</td>\n",
       "      <td>2011-04-12</td>\n",
       "      <td>-4</td>\n",
       "      <td>12.75</td>\n",
       "    </tr>\n",
       "    <tr>\n",
       "      <th>85</th>\n",
       "      <td>16553</td>\n",
       "      <td>2010-12-08</td>\n",
       "      <td>-1</td>\n",
       "      <td>4.25</td>\n",
       "    </tr>\n",
       "  </tbody>\n",
       "</table>\n",
       "<p>86 rows × 4 columns</p>\n",
       "</div>"
      ],
      "text/plain": [
       "   customer_id  order_date  quantity  unit_price\n",
       "0        16553  2011-05-18       256        0.36\n",
       "1        16553  2011-03-10         2       12.75\n",
       "2        16553  2011-02-08         4       12.75\n",
       "3        16553  2011-03-10         4        5.95\n",
       "4        16553  2011-05-18         6        2.95\n",
       "..         ...         ...       ...         ...\n",
       "81       16553  2011-03-10       120        0.85\n",
       "82       16553  2011-06-29       144        0.53\n",
       "83       16553  2010-12-14       192        0.85\n",
       "84       16553  2011-04-12        -4       12.75\n",
       "85       16553  2010-12-08        -1        4.25\n",
       "\n",
       "[86 rows x 4 columns]"
      ]
     },
     "execution_count": 5,
     "metadata": {},
     "output_type": "execute_result"
    }
   ],
   "source": [
    "%%bigquery --project $PROJECT_ID\n",
    "SELECT *\n",
    "FROM `lab_201.transactions`\n",
    "WHERE customer_id='16553'"
   ]
  },
  {
   "cell_type": "markdown",
   "metadata": {},
   "source": [
    "As you can see there are multiple sales transactions per customer. They represent the purchasing history and behavior of a given customer. For example, \n",
    "the customer identified by 16553 has 85 orders. Most of them are new purchases. Some of them are returns - the records with a negative quantity.\n",
    "\n",
    "The feature engineering query converts these 85 records into a single record representing the RFM charateristics of this customer."
   ]
  },
  {
   "cell_type": "markdown",
   "metadata": {},
   "source": [
    "## Create the KFP training pipeline"
   ]
  },
  {
   "cell_type": "markdown",
   "metadata": {},
   "source": [
    "### Create component factories for the pre-defined GCP components"
   ]
  },
  {
   "cell_type": "code",
   "execution_count": 7,
   "metadata": {},
   "outputs": [],
   "source": [
    "component_store = kfp.components.ComponentStore(\n",
    "    local_search_paths=None,\n",
    "    url_search_prefixes=[COMPONENT_URL_SEARCH_PREFIX])\n",
    "    \n",
    "automl_create_dataset_op = component_store.load_component('automl/create_dataset_for_tables')\n",
    "automl_import_data_from_bq_op = component_store.load_component('automl/import_data_from_bigquery')\n",
    "automl_create_model__op = component_store.load_component('automl/create_model_for_tables')\n",
    "automl_split_dataset_table_column_names_op = component_store.load_component('automl/split_dataset_table_column_names')"
   ]
  },
  {
   "cell_type": "markdown",
   "metadata": {},
   "source": [
    "### Create custom components"
   ]
  },
  {
   "cell_type": "markdown",
   "metadata": {},
   "source": [
    "#### Create a base docker image for the custom components"
   ]
  },
  {
   "cell_type": "code",
   "execution_count": 8,
   "metadata": {},
   "outputs": [
    {
     "name": "stdout",
     "output_type": "stream",
     "text": [
      "Overwriting Dockerfile\n"
     ]
    }
   ],
   "source": [
    "%%writefile Dockerfile\n",
    "FROM python:3.7\n",
    "RUN pip3 install --upgrade google-cloud-bigquery google-api-core google-cloud-automl grpcio"
   ]
  },
  {
   "cell_type": "code",
   "execution_count": 9,
   "metadata": {},
   "outputs": [
    {
     "name": "stdout",
     "output_type": "stream",
     "text": [
      "Creating temporary tarball archive of 11 file(s) totalling 211.4 KiB before compression.\n",
      "Uploading tarball of [.] to [gs://jk-caip_cloudbuild/source/1573527843.24-cc659c6934144d019e57fad399a77966.tgz]\n",
      "Created [https://cloudbuild.googleapis.com/v1/projects/jk-caip/builds/bfb099d7-b1b0-4b66-87ee-6f94117d58db].\n",
      "Logs are available at [https://console.cloud.google.com/gcr/builds/bfb099d7-b1b0-4b66-87ee-6f94117d58db?project=919618504923].\n",
      "----------------------------- REMOTE BUILD OUTPUT ------------------------------\n",
      "starting build \"bfb099d7-b1b0-4b66-87ee-6f94117d58db\"\n",
      "\n",
      "FETCHSOURCE\n",
      "Fetching storage object: gs://jk-caip_cloudbuild/source/1573527843.24-cc659c6934144d019e57fad399a77966.tgz#1573527843812061\n",
      "Copying gs://jk-caip_cloudbuild/source/1573527843.24-cc659c6934144d019e57fad399a77966.tgz#1573527843812061...\n",
      "/ [1 files][ 33.1 KiB/ 33.1 KiB]                                                \n",
      "Operation completed over 1 objects/33.1 KiB.                                     \n",
      "BUILD\n",
      "Already have image (with digest): gcr.io/cloud-builders/docker\n",
      "Sending build context to Docker daemon  227.8kB\n",
      "Step 1/2 : FROM python:3.7\n",
      "3.7: Pulling from library/python\n",
      "c7b7d16361e0: Already exists\n",
      "b7a128769df1: Already exists\n",
      "1128949d0793: Already exists\n",
      "667692510b70: Already exists\n",
      "bed4ecf88e6a: Already exists\n",
      "8a8c75f3996a: Already exists\n",
      "8c90ed29fb66: Pulling fs layer\n",
      "984b0e9d1433: Pulling fs layer\n",
      "d930e1ce5d4a: Pulling fs layer\n",
      "984b0e9d1433: Verifying Checksum\n",
      "984b0e9d1433: Download complete\n",
      "d930e1ce5d4a: Verifying Checksum\n",
      "d930e1ce5d4a: Download complete\n",
      "8c90ed29fb66: Verifying Checksum\n",
      "8c90ed29fb66: Download complete\n",
      "8c90ed29fb66: Pull complete\n",
      "984b0e9d1433: Pull complete\n",
      "d930e1ce5d4a: Pull complete\n",
      "Digest: sha256:d182a775e372d82d92b59ff5debeabcb699964fe163320eb9fc5ebb971c51ec3\n",
      "Status: Downloaded newer image for python:3.7\n",
      " ---> 023b89039ba4\n",
      "Step 2/2 : RUN pip3 install --upgrade google-cloud-bigquery google-api-core google-cloud-automl grpcio\n",
      " ---> Running in 99d6426fdec6\n",
      "Collecting google-cloud-bigquery\n",
      "  Downloading https://files.pythonhosted.org/packages/b6/c6/bcfcb6c25e49d8ce10ccdf4358b7efef0fd729e0941e2d1966499a2fae2f/google_cloud_bigquery-1.21.0-py2.py3-none-any.whl (158kB)\n",
      "Collecting google-api-core\n",
      "  Downloading https://files.pythonhosted.org/packages/29/3a/c528ef37f48d6ffba16f0f3c0426456ba21e0dd32be9c61a2ade93e07faa/google_api_core-1.14.3-py2.py3-none-any.whl (68kB)\n",
      "Collecting google-cloud-automl\n",
      "  Downloading https://files.pythonhosted.org/packages/22/11/569b00b3eb4ce66d95f70f3c94f379d49eb8f34cd9dd4ba83576b9f38012/google_cloud_automl-0.7.1-py2.py3-none-any.whl (297kB)\n",
      "Collecting grpcio\n",
      "  Downloading https://files.pythonhosted.org/packages/b5/68/070ee7609b452e950bd5af35f7161f0ceb0abd61cf16ff3b23c852d4594b/grpcio-1.25.0-cp37-cp37m-manylinux2010_x86_64.whl (2.4MB)\n",
      "Collecting google-cloud-core<2.0dev,>=1.0.3\n",
      "  Downloading https://files.pythonhosted.org/packages/ee/f0/084f598629db8e6ec3627688723875cdb03637acb6d86999bb105a71df64/google_cloud_core-1.0.3-py2.py3-none-any.whl\n",
      "Collecting google-resumable-media!=0.4.0,<0.5.0dev,>=0.3.1\n",
      "  Downloading https://files.pythonhosted.org/packages/96/d7/b29a41b01b854480891dfc408211ffb0cc7a2a3d5f15a3b6740ec18c845b/google_resumable_media-0.4.1-py2.py3-none-any.whl\n",
      "Collecting protobuf>=3.6.0\n",
      "  Downloading https://files.pythonhosted.org/packages/d7/34/02a2083afc14adff644a1e29783f276f12f1f914ca4cab157d73bb3d2fed/protobuf-3.10.0-cp37-cp37m-manylinux1_x86_64.whl (1.3MB)\n",
      "Collecting six>=1.10.0\n",
      "  Downloading https://files.pythonhosted.org/packages/65/26/32b8464df2a97e6dd1b656ed26b2c194606c16fe163c695a992b36c11cdf/six-1.13.0-py2.py3-none-any.whl\n",
      "Collecting google-auth<2.0dev,>=0.4.0\n",
      "  Downloading https://files.pythonhosted.org/packages/2f/81/d1e7d9974ba7c886f6d133a8baae18cb8d92b2d09bcc4f46328306825de0/google_auth-1.7.0-py2.py3-none-any.whl (74kB)\n",
      "Collecting pytz\n",
      "  Downloading https://files.pythonhosted.org/packages/e7/f9/f0b53f88060247251bf481fa6ea62cd0d25bf1b11a87888e53ce5b7c8ad2/pytz-2019.3-py2.py3-none-any.whl (509kB)\n",
      "Collecting requests<3.0.0dev,>=2.18.0\n",
      "  Downloading https://files.pythonhosted.org/packages/51/bd/23c926cd341ea6b7dd0b2a00aba99ae0f828be89d72b2190f27c11d4b7fb/requests-2.22.0-py2.py3-none-any.whl (57kB)\n",
      "Requirement already satisfied, skipping upgrade: setuptools>=34.0.0 in /usr/local/lib/python3.7/site-packages (from google-api-core) (41.4.0)\n",
      "Collecting googleapis-common-protos<2.0dev,>=1.6.0\n",
      "  Downloading https://files.pythonhosted.org/packages/eb/ee/e59e74ecac678a14d6abefb9054f0bbcb318a6452a30df3776f133886d7d/googleapis-common-protos-1.6.0.tar.gz\n",
      "Collecting pyasn1-modules>=0.2.1\n",
      "  Downloading https://files.pythonhosted.org/packages/52/50/bb4cefca37da63a0c52218ba2cb1b1c36110d84dcbae8aa48cd67c5e95c2/pyasn1_modules-0.2.7-py2.py3-none-any.whl (131kB)\n",
      "Collecting cachetools<3.2,>=2.0.0\n",
      "  Downloading https://files.pythonhosted.org/packages/2f/a6/30b0a0bef12283e83e58c1d6e7b5aabc7acfc4110df81a4471655d33e704/cachetools-3.1.1-py2.py3-none-any.whl\n",
      "Collecting rsa<4.1,>=3.1.4\n",
      "  Downloading https://files.pythonhosted.org/packages/02/e5/38518af393f7c214357079ce67a317307936896e961e35450b70fad2a9cf/rsa-4.0-py2.py3-none-any.whl\n",
      "Collecting idna<2.9,>=2.5\n",
      "  Downloading https://files.pythonhosted.org/packages/14/2c/cd551d81dbe15200be1cf41cd03869a46fe7226e7450af7a6545bfc474c9/idna-2.8-py2.py3-none-any.whl (58kB)\n",
      "Collecting chardet<3.1.0,>=3.0.2\n",
      "  Downloading https://files.pythonhosted.org/packages/bc/a9/01ffebfb562e4274b6487b4bb1ddec7ca55ec7510b22e4c51f14098443b8/chardet-3.0.4-py2.py3-none-any.whl (133kB)\n",
      "Collecting certifi>=2017.4.17\n",
      "  Downloading https://files.pythonhosted.org/packages/18/b0/8146a4f8dd402f60744fa380bc73ca47303cccf8b9190fd16a827281eac2/certifi-2019.9.11-py2.py3-none-any.whl (154kB)\n",
      "Collecting urllib3!=1.25.0,!=1.25.1,<1.26,>=1.21.1\n",
      "  Downloading https://files.pythonhosted.org/packages/b4/40/a9837291310ee1ccc242ceb6ebfd9eb21539649f193a7c8c86ba15b98539/urllib3-1.25.7-py2.py3-none-any.whl (125kB)\n",
      "Collecting pyasn1<0.5.0,>=0.4.6\n",
      "  Downloading https://files.pythonhosted.org/packages/a1/71/8f0d444e3a74e5640a3d5d967c1c6b015da9c655f35b2d308a55d907a517/pyasn1-0.4.7-py2.py3-none-any.whl (76kB)\n",
      "Building wheels for collected packages: googleapis-common-protos\n",
      "  Building wheel for googleapis-common-protos (setup.py): started\n",
      "  Building wheel for googleapis-common-protos (setup.py): finished with status 'done'\n",
      "  Created wheel for googleapis-common-protos: filename=googleapis_common_protos-1.6.0-cp37-none-any.whl size=77577 sha256=b165dd7fe944e04e3836f7f927a433dd7ad9d99e40c050af7b70f22f0dbb4bfe\n",
      "  Stored in directory: /root/.cache/pip/wheels/9e/3d/a2/1bec8bb7db80ab3216dbc33092bb7ccd0debfb8ba42b5668d5\n",
      "Successfully built googleapis-common-protos\n",
      "Installing collected packages: six, protobuf, pyasn1, pyasn1-modules, cachetools, rsa, google-auth, pytz, idna, chardet, certifi, urllib3, requests, googleapis-common-protos, google-api-core, google-cloud-core, google-resumable-media, google-cloud-bigquery, google-cloud-automl, grpcio\n",
      "Successfully installed cachetools-3.1.1 certifi-2019.9.11 chardet-3.0.4 google-api-core-1.14.3 google-auth-1.7.0 google-cloud-automl-0.7.1 google-cloud-bigquery-1.21.0 google-cloud-core-1.0.3 google-resumable-media-0.4.1 googleapis-common-protos-1.6.0 grpcio-1.25.0 idna-2.8 protobuf-3.10.0 pyasn1-0.4.7 pyasn1-modules-0.2.7 pytz-2019.3 requests-2.22.0 rsa-4.0 six-1.13.0 urllib3-1.25.7\n",
      "Removing intermediate container 99d6426fdec6\n",
      " ---> d1fafccae040\n",
      "Successfully built d1fafccae040\n",
      "Successfully tagged gcr.io/jk-caip/lab_301_components:latest\n",
      "PUSH\n",
      "Pushing gcr.io/jk-caip/lab_301_components:latest\n",
      "The push refers to repository [gcr.io/jk-caip/lab_301_components]\n",
      "6da5634e8766: Preparing\n",
      "8c40e5337dcd: Preparing\n",
      "978eb45ee4b6: Preparing\n",
      "3f53405f239c: Preparing\n",
      "48ebd1638acd: Preparing\n",
      "31f78d833a92: Preparing\n",
      "2ea751c0f96c: Preparing\n",
      "7a435d49206f: Preparing\n",
      "9674e3075904: Preparing\n",
      "831b66a484dc: Preparing\n",
      "31f78d833a92: Waiting\n",
      "2ea751c0f96c: Waiting\n",
      "7a435d49206f: Waiting\n",
      "9674e3075904: Waiting\n",
      "831b66a484dc: Waiting\n",
      "8c40e5337dcd: Layer already exists\n",
      "978eb45ee4b6: Layer already exists\n",
      "3f53405f239c: Layer already exists\n",
      "48ebd1638acd: Layer already exists\n",
      "31f78d833a92: Layer already exists\n",
      "2ea751c0f96c: Layer already exists\n",
      "7a435d49206f: Layer already exists\n",
      "9674e3075904: Layer already exists\n",
      "831b66a484dc: Layer already exists\n",
      "6da5634e8766: Pushed\n",
      "latest: digest: sha256:37c59c2c713a7bf9e30995deb9b622aaa1cfa448b14c26139b7b381f7c3dbaf2 size: 2429\n",
      "DONE\n",
      "--------------------------------------------------------------------------------\n",
      "\n",
      "ID                                    CREATE_TIME                DURATION  SOURCE                                                                             IMAGES                                       STATUS\n",
      "bfb099d7-b1b0-4b66-87ee-6f94117d58db  2019-11-12T03:04:04+00:00  32S       gs://jk-caip_cloudbuild/source/1573527843.24-cc659c6934144d019e57fad399a77966.tgz  gcr.io/jk-caip/lab_301_components (+1 more)  SUCCESS\n"
     ]
    }
   ],
   "source": [
    "IMAGE_NAME=\"lab_301_components\"\n",
    "IMAGE_URI=\"gcr.io/{}/{}:latest\".format(PROJECT_ID, IMAGE_NAME)\n",
    "!gcloud builds submit --timeout 15m --tag $IMAGE_URI"
   ]
  },
  {
   "cell_type": "markdown",
   "metadata": {},
   "source": [
    "#### Create BQ query component"
   ]
  },
  {
   "cell_type": "code",
   "execution_count": 10,
   "metadata": {},
   "outputs": [],
   "source": [
    "def bq_query(query: str, \n",
    "             project_id:str, \n",
    "             dataset_id: str, \n",
    "             table_id: str, \n",
    "             location: str) -> NamedTuple('Outputs', [('table_uri', str), ('job_id', str)]):\n",
    "\n",
    "    from google.cloud import bigquery\n",
    "    from google.api_core import exceptions\n",
    "    import logging\n",
    "    import os\n",
    "    import uuid\n",
    "    \n",
    "    logging.basicConfig(level=logging.INFO)\n",
    "    \n",
    "    client = bigquery.Client(project=project_id, location=location)\n",
    "    \n",
    "    job_config = bigquery.QueryJobConfig()\n",
    "    job_config.create_disposition = bigquery.job.CreateDisposition.CREATE_IF_NEEDED\n",
    "    job_config.write_disposition = bigquery.job.WriteDisposition.WRITE_TRUNCATE\n",
    "    job_id = 'query_' + os.environ.get('KFP_POD_NAME', uuid.uuid1().hex)\n",
    "    \n",
    "    dataset_ref = client.dataset(dataset_id)\n",
    "    try:\n",
    "        dataset = client.get_dataset(dataset_ref)\n",
    "    except exceptions.NotFound:\n",
    "        dataset = bigquery.Dataset(dataset_ref)\n",
    "        dataset.location = location\n",
    "        logging.info('Creating dataset {}'.format(dataset_id))\n",
    "        client.create_dataset(dataset)\n",
    "     \n",
    "    table_id = table_id if table_id else job_id\n",
    "    table_ref = dataset_ref.table(table_id)\n",
    "    job_config.destination = table_ref\n",
    "    logging.info('Submitting the job {}'.format(job_id))\n",
    "    query_job = client.query(query, job_config, job_id=job_id)\n",
    "    query_job.result() # Wait for query to finish\n",
    "            \n",
    "    table_uri = 'bq://{}.{}.{}'.format(project_id, dataset_id, table_id)\n",
    "    \n",
    "    return (table_uri, job_id)\n",
    "    \n",
    "bq_query_op = func_to_container_op(bq_query, base_image='gcr.io/jk-caip/lab_301_components:latest')"
   ]
  },
  {
   "cell_type": "markdown",
   "metadata": {},
   "source": [
    "#### Create a component that retrieves and logs AutoML evaluation metrics"
   ]
  },
  {
   "cell_type": "code",
   "execution_count": 11,
   "metadata": {},
   "outputs": [],
   "source": [
    "def automl_log_regression_metrics(model_path: str,\n",
    "               primary_metric:str) -> NamedTuple('Outputs', [('primary_metric', str), ('primary_metric_value', float)]):\n",
    "    \n",
    "    import logging\n",
    "    import json\n",
    "    from google.cloud import automl_v1beta1 as automl\n",
    "\n",
    "    logging.basicConfig(level=logging.INFO)\n",
    "    client = automl.TablesClient()\n",
    "\n",
    "    # Retrieve evaluation metrics\n",
    "    for evaluation in client.list_model_evaluations(model_name=model_path):\n",
    "        if evaluation.regression_evaluation_metrics.ListFields():\n",
    "            evaluation_metrics = evaluation.regression_evaluation_metrics      \n",
    "    primary_metric_value = getattr(evaluation_metrics, primary_metric)\n",
    "    \n",
    "    # Write the primary metric as a KFP pipeline metric\n",
    "    metrics = {\n",
    "        'metrics': [{\n",
    "            'name': primary_metric.replace('_', '-'),\n",
    "            'numberValue': primary_metric_value\n",
    "        }]\n",
    "    }\n",
    "    with open('/mlpipeline-metrics.json', 'w') as f:\n",
    "       json.dump(metrics, f)\n",
    "    \n",
    "    return (primary_metric, primary_metric_value)\n",
    "    \n",
    "    \n",
    "log_regression_metrics_op = func_to_container_op(automl_log_regression_metrics, base_image='gcr.io/jk-caip/lab_301_components:latest')"
   ]
  },
  {
   "cell_type": "markdown",
   "metadata": {},
   "source": [
    "#### Create a component that deploys an AutoML model"
   ]
  },
  {
   "cell_type": "code",
   "execution_count": 12,
   "metadata": {},
   "outputs": [],
   "source": [
    "def automl_deploy_model(model_path: str):\n",
    "    \n",
    "    import logging\n",
    "    from google.cloud import automl_v1beta1 as automl\n",
    "    from google.cloud.automl_v1beta1 import enums\n",
    "    \n",
    "    logging.basicConfig(level=logging.INFO)\n",
    "    client = automl.TablesClient()\n",
    "    \n",
    "    model = client.get_model(model_name=model_path)\n",
    "    if model.deployment_state != enums.Model.DeploymentState.DEPLOYED:\n",
    "        logging.info(\"Starting model deployment: {}\".format(model_path))\n",
    "        response = client.deploy_model(model_name=model_path)\n",
    "        response.result() # Wait for operation to complete\n",
    "        logging.info(\"Deployment completed\")\n",
    "    else:\n",
    "         logging.info(\"Model already deployed\")\n",
    "    \n",
    "    \n",
    "deploy_model_op = func_to_container_op(automl_deploy_model, base_image='gcr.io/jk-caip/lab_301_components:latest')"
   ]
  },
  {
   "cell_type": "markdown",
   "metadata": {},
   "source": [
    "### Define the pipeline\n",
    "#### Set default values for pipeline parameters"
   ]
  },
  {
   "cell_type": "code",
   "execution_count": 13,
   "metadata": {},
   "outputs": [],
   "source": [
    "project_id = PROJECT_ID\n",
    "features_dataset_id = DATASET_ID\n",
    "features_dataset_location = DATASET_LOCATION\n",
    "features_table_id = 'features'\n",
    "aml_compute_region = 'us-central1'\n",
    "aml_dataset_name = 'clv_features'\n",
    "aml_model_name = 'clv_regression'\n",
    "target_column_name = 'target_monetary'\n",
    "train_budget = 1000\n",
    "optimization_objective = 'MINIMIZE_MAE'\n",
    "primary_metric = 'mean_absolute_error'\n",
    "deployment_threshold = 900\n",
    "\n",
    "# Read and render the query template\n",
    "query_template_file = 'query_template.sql.jinja'\n",
    "with open(query_template_file, 'r') as file:\n",
    "    query_template = file.read()\n",
    "\n",
    "query = Template(query_template).render(\n",
    "    data_source_id='{}.{}.{}'.format(PROJECT_ID, DATASET_ID, TRANSACTIONS_TABLE_ID),\n",
    "    threshold_date='2011-08-08',\n",
    "    predict_end='2011-12-12',\n",
    "    max_monetary=15000)"
   ]
  },
  {
   "cell_type": "markdown",
   "metadata": {},
   "source": [
    "#### Define the pipeline function"
   ]
  },
  {
   "cell_type": "code",
   "execution_count": 14,
   "metadata": {},
   "outputs": [],
   "source": [
    "@kfp.dsl.pipeline(\n",
    "    name='CLV Training',\n",
    "    description='CLV Training Pipeline using BigQuery for feature engineering and Automl Tables for model training'\n",
    ")\n",
    "def clv_train(\n",
    "    project_id:str,\n",
    "    feature_engineering_query:str =query,\n",
    "    aml_compute_region:str =aml_compute_region,\n",
    "    features_table_id:str =features_table_id,\n",
    "    features_dataset_id:str =features_dataset_id,\n",
    "    features_dataset_location:str =features_dataset_location,\n",
    "    aml_dataset_name:str =aml_dataset_name,\n",
    "    target_column_name:str =target_column_name,\n",
    "    aml_model_name:str =aml_model_name,\n",
    "    train_budget:'Integer' =train_budget,\n",
    "    optimization_objective:str =optimization_objective,\n",
    "    primary_metric:str =primary_metric,\n",
    "    deployment_threshold:'Float' =deployment_threshold\n",
    "    ):\n",
    "    \"\"\"Trains a Customer Lifetime Value model\"\"\"\n",
    "    \n",
    "    # Use BigQuery to engineer features from transaction data\n",
    "    engineer_features = bq_query_op(\n",
    "        query=feature_engineering_query,\n",
    "        project_id=project_id,\n",
    "        dataset_id=features_dataset_id,\n",
    "        table_id=features_table_id,\n",
    "        location=features_dataset_location)\n",
    "    \n",
    "    # Create an AML Dataset\n",
    "    create_dataset = automl_create_dataset_op(\n",
    "        gcp_project_id=project_id,\n",
    "        gcp_region=aml_compute_region,\n",
    "        display_name=aml_dataset_name\n",
    "    )\n",
    "    \n",
    "    # Import the features from BigQuery to AML Dataset\n",
    "    import_data = automl_import_data_from_bq_op(\n",
    "        dataset_path=create_dataset.outputs['dataset_path'],\n",
    "        input_uri=engineer_features.outputs['table_uri']\n",
    "    )\n",
    "    \n",
    "    # Set the target and feature columns\n",
    "    split_column_specs = automl_split_dataset_table_column_names_op(\n",
    "        dataset_path=import_data.outputs['dataset_path'],\n",
    "        table_index=0,\n",
    "        target_column_name=target_column_name\n",
    "    )\n",
    "    \n",
    "    # Create a model\n",
    "    create_model = automl_create_model__op(\n",
    "        gcp_project_id=project_id,\n",
    "        gcp_region=aml_compute_region,\n",
    "        display_name=aml_model_name,\n",
    "        dataset_id=create_dataset.outputs['dataset_id'],\n",
    "        target_column_path=split_column_specs.outputs['target_column_path'],\n",
    "        input_feature_column_paths=split_column_specs.outputs['feature_column_paths'],\n",
    "        optimization_objective=optimization_objective,\n",
    "        train_budget_milli_node_hours=train_budget\n",
    "    )\n",
    "    \n",
    "    # Retrieve the primary metric from the model evaluations\n",
    "    log_regression_metrics = log_regression_metrics_op(create_model.outputs['model_path'], primary_metric)\n",
    "    \n",
    "    # Deploy the model if the primary metric is better than threshold\n",
    "    with kfp.dsl.Condition(log_regression_metrics.outputs['primary_metric_value'] < deployment_threshold):\n",
    "        deploy_model = deploy_model_op(create_model.outputs['model_path'])\n",
    "    \n",
    "    from kfp.gcp import use_gcp_secret\n",
    "    kfp.dsl.get_pipeline_conf().add_op_transformer(use_gcp_secret('user-gcp-sa'))\n"
   ]
  },
  {
   "cell_type": "markdown",
   "metadata": {},
   "source": [
    "### Compile the pipeline"
   ]
  },
  {
   "cell_type": "code",
   "execution_count": 15,
   "metadata": {},
   "outputs": [],
   "source": [
    "pipeline_yaml = 'clv_training.yaml'\n",
    "kfp.compiler.Compiler().compile(clv_train, pipeline_yaml)"
   ]
  },
  {
   "cell_type": "markdown",
   "metadata": {},
   "source": [
    "## Upload the pipeline to KFP\n",
    "Get GKE cluster credentials."
   ]
  },
  {
   "cell_type": "code",
   "execution_count": null,
   "metadata": {},
   "outputs": [],
   "source": [
    "!gcloud config set project $PROJECT_ID\n",
    "!gcloud container clusters get-credentials $CLUSTER_NAME --zone $CLUSTER_ZONE"
   ]
  },
  {
   "cell_type": "markdown",
   "metadata": {},
   "source": [
    "Use `kfp.Client()` to upload the pipeline."
   ]
  },
  {
   "cell_type": "code",
   "execution_count": 16,
   "metadata": {},
   "outputs": [
    {
     "data": {
      "text/html": [
       "Pipeline link <a href=/pipeline/#/pipelines/details/bf56bc7f-a854-4233-83f0-7b227cdedd74>here</a>"
      ],
      "text/plain": [
       "<IPython.core.display.HTML object>"
      ]
     },
     "metadata": {},
     "output_type": "display_data"
    }
   ],
   "source": [
    "pipeline_name = 'clv_training_pipeline'\n",
    "client = kfp.Client()\n",
    "\n",
    "pipelines = [pipeline for pipeline in client.list_pipelines(page_size=100).pipelines if pipeline.name == pipeline_name]\n",
    "\n",
    "if pipelines:\n",
    "    print(\"Pipeline with this name already exists\")\n",
    "    pipeline_ref = pipelines[0]\n",
    "    \n",
    "else:\n",
    "    pipeline_ref = client.upload_pipeline(pipeline_yaml, pipeline_name)"
   ]
  },
  {
   "cell_type": "markdown",
   "metadata": {},
   "source": [
    "## Trigger a pipeline run"
   ]
  },
  {
   "cell_type": "code",
   "execution_count": 17,
   "metadata": {},
   "outputs": [
    {
     "data": {
      "text/html": [
       "Experiment link <a href=\"/pipeline/#/experiments/details/3fa9384c-b36c-46b5-8e96-64fdd549c1fe\" target=\"_blank\" >here</a>"
      ],
      "text/plain": [
       "<IPython.core.display.HTML object>"
      ]
     },
     "metadata": {},
     "output_type": "display_data"
    },
    {
     "data": {
      "text/html": [
       "Run link <a href=\"/pipeline/#/runs/details/48559803-5073-4e5a-a99a-21fec63e9e5e\" target=\"_blank\" >here</a>"
      ],
      "text/plain": [
       "<IPython.core.display.HTML object>"
      ]
     },
     "metadata": {},
     "output_type": "display_data"
    },
    {
     "data": {
      "text/plain": [
       "('Run 01', '48559803-5073-4e5a-a99a-21fec63e9e5e')"
      ]
     },
     "execution_count": 17,
     "metadata": {},
     "output_type": "execute_result"
    }
   ],
   "source": [
    "experiment_name = 'CLV Training'\n",
    "run_name = 'Run 01'\n",
    "params = dict(\n",
    "    project_id=PROJECT_ID\n",
    ")\n",
    "\n",
    "try:\n",
    "    experiment_ref = client.get_experiment(experiment_name)\n",
    "except:\n",
    "    experiment_ref = client.create_experiment(experiment_name)\n",
    "\n",
    "run_ref =client.run_pipeline(\n",
    "    experiment_ref.id,\n",
    "    run_name,\n",
    "    pipeline_package_path=None,\n",
    "    params=params,\n",
    "    pipeline_id=pipeline_ref.id)\n",
    "\n",
    "(run_ref.name, run_ref.id)"
   ]
  },
  {
   "cell_type": "markdown",
   "metadata": {},
   "source": [
    "## Clean up"
   ]
  },
  {
   "cell_type": "code",
   "execution_count": null,
   "metadata": {},
   "outputs": [],
   "source": [
    "!bq --project_id=$PROJECT_ID rm -r -f -d $DATASET_NAME"
   ]
  },
  {
   "cell_type": "code",
   "execution_count": null,
   "metadata": {},
   "outputs": [],
   "source": []
  }
 ],
 "metadata": {
  "kernelspec": {
   "display_name": "tfx",
   "language": "python",
   "name": "tfx"
  },
  "language_info": {
   "codemirror_mode": {
    "name": "ipython",
    "version": 3
   },
   "file_extension": ".py",
   "mimetype": "text/x-python",
   "name": "python",
   "nbconvert_exporter": "python",
   "pygments_lexer": "ipython3",
   "version": "3.6.9"
  }
 },
 "nbformat": 4,
 "nbformat_minor": 4
}
